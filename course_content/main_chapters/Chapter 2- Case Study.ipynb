{
 "cells": [
  {
   "cell_type": "markdown",
   "metadata": {},
   "source": [
    "<div class=\"row\">\n",
    "    <div class=\"column\">\n",
    "        <img src=\"https://datasciencecampus.ons.gov.uk/wp-content/uploads/sites/10/2017/03/data-science-campus-logo-new.svg\"\n",
    "             alt=\"Data Science Campus Logo\"\n",
    "             align=\"right\" \n",
    "             width = \"340\"\n",
    "             style=\"margin: 0px 60px\"\n",
    "             />\n",
    "    </div>\n",
    "    <div class=\"column\">\n",
    "        <img src=\"https://cdn.ons.gov.uk/assets/images/ons-logo/v2/ons-logo.svg\"\n",
    "             alt=\"ONS Logo\"\n",
    "             align=\"left\" \n",
    "             width = \"420\"\n",
    "             style=\"margin: 0px 30px\"/>\n",
    "    </div>\n"
   ]
  },
  {
   "cell_type": "markdown",
   "metadata": {},
   "source": [
    "---\n",
    "<center><h1><font size=6>Chapter 2 Case Study<font></h1></center>\n",
    "<center><h1><font size=7>Regression<font></h1></center>\n",
    "    \n",
    "*By Dr. Laurie Baker and Dr. Daniel J. Lewis*\n"
   ]
  },
  {
   "cell_type": "markdown",
   "metadata": {},
   "source": [
    "# Introduction\n",
    "\n",
    "Let's look at another dataset with interesting considerations for undergraduate students.\n",
    "\n",
    "The dataset consists of salaries from 6 different departments from English to Biology. The data includes the variables:\n",
    "\n",
    "* **salary** the current salary\n",
    "* **experience** the number of years of experience\n",
    "* **department** what department the individual belongs to.\n",
    "\n",
    "Let's load the libraries we'll need and then the data.\n",
    "\n",
    "**Libraries needed**"
   ]
  },
  {
   "cell_type": "code",
   "execution_count": 2,
   "metadata": {},
   "outputs": [],
   "source": [
    "import numpy as np # linear algebra\n",
    "import pandas as pd # data processing\n",
    "import matplotlib.pyplot as plt # data plotting\n",
    "import seaborn as sns # data visualisation and plotting\n",
    "import statsmodels.api as sm # statistical modelling package\n",
    "import statsmodels.formula.api as smf # statistical modelling package with R-like formulas\n",
    "import scipy.stats as stats\n",
    "import math\n",
    "\n",
    "from sklearn import datasets, linear_model # fetching iris dataset and linear model functions\n",
    "from sklearn.metrics import mean_squared_error, r2_score\n",
    "\n",
    "# Seaborn plot default configurations\n",
    "sns.set_style(\"white\")\n",
    "\n",
    "# set the custom size for my graphs\n",
    "sns.set(rc={'figure.figsize':(8.7,6.27)})"
   ]
  },
  {
   "cell_type": "markdown",
   "metadata": {},
   "source": [
    "Loading the data:\n"
   ]
  },
  {
   "cell_type": "code",
   "execution_count": 3,
   "metadata": {},
   "outputs": [],
   "source": [
    "salaries = pd.read_csv(\"../../data/faculty-data.csv\") "
   ]
  },
  {
   "cell_type": "markdown",
   "metadata": {},
   "source": [
    "## Explore the data\n",
    "\n",
    "* What are the variables in our data set?\n"
   ]
  },
  {
   "cell_type": "code",
   "execution_count": 4,
   "metadata": {},
   "outputs": [
    {
     "data": {
      "text/plain": [
       "Index(['ids', 'department', 'bases', 'experience', 'raises', 'salary'], dtype='object')"
      ]
     },
     "execution_count": 4,
     "metadata": {},
     "output_type": "execute_result"
    }
   ],
   "source": [
    "salaries.columns"
   ]
  },
  {
   "cell_type": "markdown",
   "metadata": {},
   "source": [
    "* What does each row in the data.frame represent?"
   ]
  },
  {
   "cell_type": "code",
   "execution_count": 5,
   "metadata": {},
   "outputs": [
    {
     "data": {
      "text/html": [
       "<div>\n",
       "<style scoped>\n",
       "    .dataframe tbody tr th:only-of-type {\n",
       "        vertical-align: middle;\n",
       "    }\n",
       "\n",
       "    .dataframe tbody tr th {\n",
       "        vertical-align: top;\n",
       "    }\n",
       "\n",
       "    .dataframe thead th {\n",
       "        text-align: right;\n",
       "    }\n",
       "</style>\n",
       "<table border=\"1\" class=\"dataframe\">\n",
       "  <thead>\n",
       "    <tr style=\"text-align: right;\">\n",
       "      <th></th>\n",
       "      <th>ids</th>\n",
       "      <th>department</th>\n",
       "      <th>bases</th>\n",
       "      <th>experience</th>\n",
       "      <th>raises</th>\n",
       "      <th>salary</th>\n",
       "    </tr>\n",
       "  </thead>\n",
       "  <tbody>\n",
       "    <tr>\n",
       "      <th>0</th>\n",
       "      <td>1</td>\n",
       "      <td>sociology</td>\n",
       "      <td>39012.062997</td>\n",
       "      <td>3</td>\n",
       "      <td>2122.325646</td>\n",
       "      <td>45379.039935</td>\n",
       "    </tr>\n",
       "    <tr>\n",
       "      <th>1</th>\n",
       "      <td>2</td>\n",
       "      <td>biology</td>\n",
       "      <td>51872.123941</td>\n",
       "      <td>9</td>\n",
       "      <td>541.643975</td>\n",
       "      <td>56746.919719</td>\n",
       "    </tr>\n",
       "    <tr>\n",
       "      <th>2</th>\n",
       "      <td>3</td>\n",
       "      <td>english</td>\n",
       "      <td>64341.126468</td>\n",
       "      <td>3</td>\n",
       "      <td>543.178641</td>\n",
       "      <td>65970.662390</td>\n",
       "    </tr>\n",
       "    <tr>\n",
       "      <th>3</th>\n",
       "      <td>4</td>\n",
       "      <td>informatics</td>\n",
       "      <td>68975.266754</td>\n",
       "      <td>2</td>\n",
       "      <td>1736.946839</td>\n",
       "      <td>72449.160433</td>\n",
       "    </tr>\n",
       "    <tr>\n",
       "      <th>4</th>\n",
       "      <td>5</td>\n",
       "      <td>statistics</td>\n",
       "      <td>78262.278702</td>\n",
       "      <td>9</td>\n",
       "      <td>469.943148</td>\n",
       "      <td>82491.767032</td>\n",
       "    </tr>\n",
       "  </tbody>\n",
       "</table>\n",
       "</div>"
      ],
      "text/plain": [
       "   ids   department         bases  experience       raises        salary\n",
       "0    1    sociology  39012.062997           3  2122.325646  45379.039935\n",
       "1    2      biology  51872.123941           9   541.643975  56746.919719\n",
       "2    3      english  64341.126468           3   543.178641  65970.662390\n",
       "3    4  informatics  68975.266754           2  1736.946839  72449.160433\n",
       "4    5   statistics  78262.278702           9   469.943148  82491.767032"
      ]
     },
     "execution_count": 5,
     "metadata": {},
     "output_type": "execute_result"
    }
   ],
   "source": [
    "salaries.head()"
   ]
  },
  {
   "cell_type": "markdown",
   "metadata": {},
   "source": [
    "\n",
    "* How many departments are in the data? How many employees are in each department?\n"
   ]
  },
  {
   "cell_type": "code",
   "execution_count": 9,
   "metadata": {},
   "outputs": [
    {
     "data": {
      "text/plain": [
       "5"
      ]
     },
     "execution_count": 9,
     "metadata": {},
     "output_type": "execute_result"
    }
   ],
   "source": [
    "len(salaries.department.unique())"
   ]
  },
  {
   "cell_type": "code",
   "execution_count": 10,
   "metadata": {},
   "outputs": [
    {
     "data": {
      "text/plain": [
       "array(['sociology', 'biology', 'english', 'informatics', 'statistics'],\n",
       "      dtype=object)"
      ]
     },
     "execution_count": 10,
     "metadata": {},
     "output_type": "execute_result"
    }
   ],
   "source": [
    "salaries.department.unique()"
   ]
  },
  {
   "cell_type": "code",
   "execution_count": 11,
   "metadata": {},
   "outputs": [
    {
     "data": {
      "text/plain": [
       "biology        20\n",
       "informatics    20\n",
       "statistics     20\n",
       "sociology      20\n",
       "english        20\n",
       "Name: department, dtype: int64"
      ]
     },
     "execution_count": 11,
     "metadata": {},
     "output_type": "execute_result"
    }
   ],
   "source": [
    "salaries.department.value_counts()"
   ]
  },
  {
   "cell_type": "markdown",
   "metadata": {},
   "source": [
    "### Plotting the data\n",
    "\n",
    "Create plots of the data to visualise:"
   ]
  },
  {
   "cell_type": "markdown",
   "metadata": {},
   "source": [
    "* What is the range in salaries?"
   ]
  },
  {
   "cell_type": "code",
   "execution_count": 12,
   "metadata": {},
   "outputs": [
    {
     "data": {
      "text/plain": [
       "<matplotlib.axes._subplots.AxesSubplot at 0x2900410f9e8>"
      ]
     },
     "execution_count": 12,
     "metadata": {},
     "output_type": "execute_result"
    },
    {
     "data": {
      "image/png": "[encoded data removed]",
      "text/plain": [
       "<Figure size 432x288 with 1 Axes>"
      ]
     },
     "metadata": {
      "needs_background": "light"
     },
     "output_type": "display_data"
    }
   ],
   "source": [
    "sns.boxplot(data = salaries, y = 'salary', x = 'department')"
   ]
  },
  {
   "cell_type": "code",
   "execution_count": 13,
   "metadata": {},
   "outputs": [
    {
     "data": {
      "text/plain": [
       "<matplotlib.axes._subplots.AxesSubplot at 0x2900dc9fba8>"
      ]
     },
     "execution_count": 13,
     "metadata": {},
     "output_type": "execute_result"
    },
    {
     "data": {
      "image/png": "[encoded data removed]",
      "text/plain": [
       "<Figure size 432x288 with 1 Axes>"
      ]
     },
     "metadata": {
      "needs_background": "light"
     },
     "output_type": "display_data"
    }
   ],
   "source": [
    "sns.distplot(salaries['salary'],\n",
    "            hist=False,\n",
    "            kde=True,\n",
    "            kde_kws={'shade': True,\n",
    "                    'linewidth': 3})"
   ]
  },
  {
   "cell_type": "markdown",
   "metadata": {},
   "source": [
    "* How many employees do we have salaries for from each department in the dataset?"
   ]
  },
  {
   "cell_type": "code",
   "execution_count": 14,
   "metadata": {},
   "outputs": [
    {
     "data": {
      "text/plain": [
       "<matplotlib.axes._subplots.AxesSubplot at 0x2900dd5c9e8>"
      ]
     },
     "execution_count": 14,
     "metadata": {},
     "output_type": "execute_result"
    },
    {
     "data": {
      "image/png": "[encoded data removed]",
      "text/plain": [
       "<Figure size 432x288 with 1 Axes>"
      ]
     },
     "metadata": {
      "needs_background": "light"
     },
     "output_type": "display_data"
    }
   ],
   "source": [
    "sns.countplot(x='department',\n",
    "             data=salaries)"
   ]
  },
  {
   "cell_type": "markdown",
   "metadata": {},
   "source": [
    "* How does salary vary with experience?"
   ]
  },
  {
   "cell_type": "code",
   "execution_count": 15,
   "metadata": {},
   "outputs": [
    {
     "data": {
      "text/plain": [
       "<matplotlib.axes._subplots.AxesSubplot at 0x2900ddcd470>"
      ]
     },
     "execution_count": 15,
     "metadata": {},
     "output_type": "execute_result"
    },
    {
     "data": {
      "image/png": "[encoded data removed]",
      "text/plain": [
       "<Figure size 432x288 with 1 Axes>"
      ]
     },
     "metadata": {
      "needs_background": "light"
     },
     "output_type": "display_data"
    }
   ],
   "source": [
    "sns.scatterplot(data = salaries,\n",
    "               x = 'experience',\n",
    "               y = 'salary')"
   ]
  },
  {
   "cell_type": "markdown",
   "metadata": {},
   "source": [
    "* Does salary vary with experience by department?"
   ]
  },
  {
   "cell_type": "code",
   "execution_count": 19,
   "metadata": {},
   "outputs": [
    {
     "data": {
      "text/plain": [
       "<matplotlib.legend.Legend at 0x2900e00aa20>"
      ]
     },
     "execution_count": 19,
     "metadata": {},
     "output_type": "execute_result"
    },
    {
     "data": {
      "image/png": "[encoded data removed]",
      "text/plain": [
       "<Figure size 432x288 with 1 Axes>"
      ]
     },
     "metadata": {
      "needs_background": "light"
     },
     "output_type": "display_data"
    }
   ],
   "source": [
    "sns.scatterplot(data = salaries,\n",
    "               x = 'experience',\n",
    "               y = 'salary',\n",
    "               hue = 'department')\n",
    "plt.legend(loc = 'upper right')"
   ]
  },
  {
   "cell_type": "markdown",
   "metadata": {},
   "source": [
    "## Exploring Hypotheses\n",
    "\n",
    "- Construct linear models that explore the following hypotheses:\n"
   ]
  },
  {
   "cell_type": "markdown",
   "metadata": {},
   "source": [
    "### The relationship between salary and experience is the same across all departments."
   ]
  },
  {
   "cell_type": "markdown",
   "metadata": {},
   "source": [
    "* What is the response variable? What is the explanatory variable?"
   ]
  },
  {
   "cell_type": "code",
   "execution_count": 20,
   "metadata": {},
   "outputs": [
    {
     "name": "stdout",
     "output_type": "stream",
     "text": [
      "                            OLS Regression Results                            \n",
      "==============================================================================\n",
      "Dep. Variable:                 salary   R-squared:                       0.022\n",
      "Model:                            OLS   Adj. R-squared:                  0.012\n",
      "Method:                 Least Squares   F-statistic:                     2.238\n",
      "Date:                Wed, 27 Jan 2021   Prob (F-statistic):              0.138\n",
      "Time:                        10:54:09   Log-Likelihood:                -1089.2\n",
      "No. Observations:                 100   AIC:                             2182.\n",
      "Df Residuals:                      98   BIC:                             2188.\n",
      "Df Model:                           1                                         \n",
      "Covariance Type:            nonrobust                                         \n",
      "==============================================================================\n",
      "                 coef    std err          t      P>|t|      [0.025      0.975]\n",
      "------------------------------------------------------------------------------\n",
      "Intercept   6.215e+04   2564.318     24.238      0.000    5.71e+04    6.72e+04\n",
      "experience   683.4794    456.895      1.496      0.138    -223.214    1590.173\n",
      "==============================================================================\n",
      "Omnibus:                       94.683   Durbin-Watson:                   1.581\n",
      "Prob(Omnibus):                  0.000   Jarque-Bera (JB):                8.963\n",
      "Skew:                           0.229   Prob(JB):                       0.0113\n",
      "Kurtosis:                       1.607   Cond. No.                         11.2\n",
      "==============================================================================\n",
      "\n",
      "Warnings:\n",
      "[1] Standard Errors assume that the covariance matrix of the errors is correctly specified.\n"
     ]
    }
   ],
   "source": [
    "model1 = smf.ols(formula='salary ~ experience', data = salaries)\n",
    "\n",
    "results_mod1 = model1.fit()\n",
    "\n",
    "print(results_mod1.summary())\n"
   ]
  },
  {
   "cell_type": "markdown",
   "metadata": {},
   "source": [
    "* Intercept interpretation (starting salary):"
   ]
  },
  {
   "cell_type": "code",
   "execution_count": 21,
   "metadata": {},
   "outputs": [
    {
     "name": "stdout",
     "output_type": "stream",
     "text": [
      "The intercept =  62154.02335773204\n"
     ]
    }
   ],
   "source": [
    "print(\"The intercept = \", results_mod1.params['Intercept'])"
   ]
  },
  {
   "cell_type": "markdown",
   "metadata": {},
   "source": [
    "* Slope interpretation: for every year of experience the amount of extra money make."
   ]
  },
  {
   "cell_type": "code",
   "execution_count": 22,
   "metadata": {},
   "outputs": [
    {
     "name": "stdout",
     "output_type": "stream",
     "text": [
      "The slope =  683.4793533925672\n"
     ]
    }
   ],
   "source": [
    "print(\"The slope = \", results_mod1.params['experience'])"
   ]
  },
  {
   "cell_type": "markdown",
   "metadata": {},
   "source": [
    "### Plotting the fitted model"
   ]
  },
  {
   "cell_type": "code",
   "execution_count": 24,
   "metadata": {},
   "outputs": [
    {
     "data": {
      "text/plain": [
       "<matplotlib.axes._subplots.AxesSubplot at 0x2900e0a2eb8>"
      ]
     },
     "execution_count": 24,
     "metadata": {},
     "output_type": "execute_result"
    },
    {
     "data": {
      "image/png": "[encoded data removed]",
      "text/plain": [
       "<Figure size 432x288 with 1 Axes>"
      ]
     },
     "metadata": {
      "needs_background": "light"
     },
     "output_type": "display_data"
    }
   ],
   "source": [
    "salary_scatter = sns.scatterplot(data = salaries,\n",
    "                                x = 'experience',\n",
    "                                y = 'salary')\n",
    "\n",
    "\n",
    "x = np.arange(9)\n",
    "y = results_mod1.params['experience']*x + results_mod1.params['Intercept']\n",
    "\n",
    "\n",
    "salary_scatter = sns.regplot(x = x, y = y, marker = \"+\", line_kws={\"color\": \"green\"})\n",
    "salary_scatter"
   ]
  },
  {
   "cell_type": "markdown",
   "metadata": {},
   "source": [
    "### Plot the residuals"
   ]
  },
  {
   "cell_type": "code",
   "execution_count": 25,
   "metadata": {},
   "outputs": [
    {
     "data": {
      "text/plain": [
       "<matplotlib.axes._subplots.AxesSubplot at 0x2900e0a2128>"
      ]
     },
     "execution_count": 25,
     "metadata": {},
     "output_type": "execute_result"
    },
    {
     "data": {
      "image/png": "[encoded data removed]",
      "text/plain": [
       "<Figure size 432x288 with 1 Axes>"
      ]
     },
     "metadata": {
      "needs_background": "light"
     },
     "output_type": "display_data"
    }
   ],
   "source": [
    "sns.residplot(data=salaries,\n",
    "             x = 'experience',\n",
    "             y = 'salary')\n",
    "\n"
   ]
  },
  {
   "cell_type": "markdown",
   "metadata": {},
   "source": [
    "## Each department has a different starting salary but the increase in salary with experience is the same.\n",
    "\n",
    "* Construct a linear model to explore the above hypothesis."
   ]
  },
  {
   "cell_type": "code",
   "execution_count": 26,
   "metadata": {},
   "outputs": [
    {
     "name": "stdout",
     "output_type": "stream",
     "text": [
      "                            OLS Regression Results                            \n",
      "==============================================================================\n",
      "Dep. Variable:                 salary   R-squared:                       0.922\n",
      "Model:                            OLS   Adj. R-squared:                  0.918\n",
      "Method:                 Least Squares   F-statistic:                     222.0\n",
      "Date:                Wed, 27 Jan 2021   Prob (F-statistic):           1.97e-50\n",
      "Time:                        11:06:49   Log-Likelihood:                -962.82\n",
      "No. Observations:                 100   AIC:                             1938.\n",
      "Df Residuals:                      94   BIC:                             1953.\n",
      "Df Model:                           5                                         \n",
      "Covariance Type:            nonrobust                                         \n",
      "================================================================================================\n",
      "                                   coef    std err          t      P>|t|      [0.025      0.975]\n",
      "------------------------------------------------------------------------------------------------\n",
      "Intercept                     4.973e+04   1026.409     48.454      0.000    4.77e+04    5.18e+04\n",
      "C(department)[T.english]      9246.4336   1198.623      7.714      0.000    6866.539    1.16e+04\n",
      "C(department)[T.informatics]  2.422e+04   1199.285     20.193      0.000    2.18e+04    2.66e+04\n",
      "C(department)[T.sociology]   -1933.5688   1215.500     -1.591      0.115   -4346.973     479.835\n",
      "C(department)[T.statistics]   2.883e+04   1204.055     23.948      0.000    2.64e+04    3.12e+04\n",
      "experience                     755.5152    134.641      5.611      0.000     488.183    1022.847\n",
      "==============================================================================\n",
      "Omnibus:                        1.702   Durbin-Watson:                   2.005\n",
      "Prob(Omnibus):                  0.427   Jarque-Bera (JB):                1.457\n",
      "Skew:                          -0.143   Prob(JB):                        0.483\n",
      "Kurtosis:                       2.482   Cond. No.                         30.7\n",
      "==============================================================================\n",
      "\n",
      "Warnings:\n",
      "[1] Standard Errors assume that the covariance matrix of the errors is correctly specified.\n"
     ]
    }
   ],
   "source": [
    "model2 = smf.ols(formula='salary ~ experience + C(department)', data = salaries)\n",
    "\n",
    "results_mod2 = model2.fit()\n",
    "\n",
    "print(results_mod2.summary())"
   ]
  },
  {
   "cell_type": "markdown",
   "metadata": {},
   "source": [
    "If someone works in a department for 6 years, will they have a higher salary if they are in the biology or the sociology department?"
   ]
  },
  {
   "cell_type": "code",
   "execution_count": 27,
   "metadata": {},
   "outputs": [
    {
     "data": {
      "text/plain": [
       "54266.86195890707"
      ]
     },
     "execution_count": 27,
     "metadata": {},
     "output_type": "execute_result"
    }
   ],
   "source": [
    "results_mod2.params['experience']*6 + results_mod2.params['Intercept']\n",
    "\n",
    "\n",
    "\n",
    "\n"
   ]
  },
  {
   "cell_type": "code",
   "execution_count": 28,
   "metadata": {},
   "outputs": [
    {
     "data": {
      "text/plain": [
       "52333.29315029024"
      ]
     },
     "execution_count": 28,
     "metadata": {},
     "output_type": "execute_result"
    }
   ],
   "source": [
    "results_mod2.params['experience']*6 + results_mod2.params['Intercept'] + results_mod2.params['C(department)[T.sociology]']"
   ]
  },
  {
   "cell_type": "code",
   "execution_count": 30,
   "metadata": {},
   "outputs": [
    {
     "data": {
      "text/plain": [
       "<matplotlib.axes._subplots.AxesSubplot at 0x2900f5f2e10>"
      ]
     },
     "execution_count": 30,
     "metadata": {},
     "output_type": "execute_result"
    },
    {
     "data": {
      "image/png": "[encoded data removed]",
      "text/plain": [
       "<Figure size 432x288 with 1 Axes>"
      ]
     },
     "metadata": {
      "needs_background": "light"
     },
     "output_type": "display_data"
    }
   ],
   "source": [
    "salary_scatter = sns.scatterplot(data = salaries,\n",
    "                                x = 'experience',\n",
    "                                y = 'salary',\n",
    "                                hue = 'department')\n",
    "\n",
    "a = results_mod2.params['experience']\n",
    "b_biology = results_mod2.params['Intercept']\n",
    "b_english = results_mod2.params['Intercept'] + results_mod2.params['C(department)[T.english]']\n",
    "b_informatics = results_mod2.params['Intercept'] + results_mod2.params['C(department)[T.informatics]']\n",
    "b_sociology = results_mod2.params['Intercept'] + results_mod2.params['C(department)[T.sociology]']\n",
    "b_statistics = results_mod2.params['Intercept'] + results_mod2.params['C(department)[T.statistics]']\n",
    "\n",
    "\n",
    "\n",
    "x = np.arange(9)\n",
    "y = a*x + b_biology\n",
    "y2 = a*x + b_english\n",
    "y3 = a*x + b_informatics\n",
    "y4 = a*x + b_sociology\n",
    "y5 = a*x + b_statistics\n",
    "\n",
    "\n",
    "\n",
    "\n",
    "\n",
    "salary_scatter = sns.regplot(x = x, y = y, marker = \"+\", line_kws={\"color\": \"blue\"})\n",
    "salary_scatter = sns.regplot(x = x, y = y2, marker = \"+\", line_kws={\"color\": \"green\"})\n",
    "salary_scatter = sns.regplot(x = x, y = y3, marker = \"+\", line_kws={\"color\": \"red\"})\n",
    "salary_scatter = sns.regplot(x = x, y = y4, marker = \"+\", line_kws={\"color\": \"orange\"})\n",
    "salary_scatter = sns.regplot(x = x, y = y5, marker = \"+\", line_kws={\"color\": \"purple\"})\n",
    "\n",
    "\n",
    "salary_scatter"
   ]
  },
  {
   "cell_type": "code",
   "execution_count": 32,
   "metadata": {},
   "outputs": [
    {
     "data": {
      "text/plain": [
       "<matplotlib.axes._subplots.AxesSubplot at 0x2900e52ffd0>"
      ]
     },
     "execution_count": 32,
     "metadata": {},
     "output_type": "execute_result"
    },
    {
     "data": {
      "image/png": "[encoded data removed]",
      "text/plain": [
       "<Figure size 432x288 with 1 Axes>"
      ]
     },
     "metadata": {
      "needs_background": "light"
     },
     "output_type": "display_data"
    }
   ],
   "source": [
    "residual2 = results_mod2.resid\n",
    "fitted2 = results_mod2.fittedvalues\n",
    "\n",
    "resid2_plot = sns.scatterplot(x = fitted2, y = residual2)\n",
    "resid2_plot.set(xlabel='Fitted', ylabel='Residuals')\n",
    "resid2_plot"
   ]
  },
  {
   "cell_type": "markdown",
   "metadata": {},
   "source": [
    "## Each department has different starting salaries and salaries increase at different rates.\n",
    "\n",
    "* Construct a linear model to explore the above hypothesis."
   ]
  },
  {
   "cell_type": "code",
   "execution_count": 33,
   "metadata": {},
   "outputs": [
    {
     "name": "stdout",
     "output_type": "stream",
     "text": [
      "                            OLS Regression Results                            \n",
      "==============================================================================\n",
      "Dep. Variable:                 salary   R-squared:                       0.941\n",
      "Model:                            OLS   Adj. R-squared:                  0.935\n",
      "Method:                 Least Squares   F-statistic:                     159.2\n",
      "Date:                Wed, 27 Jan 2021   Prob (F-statistic):           2.65e-51\n",
      "Time:                        11:28:42   Log-Likelihood:                -948.90\n",
      "No. Observations:                 100   AIC:                             1918.\n",
      "Df Residuals:                      90   BIC:                             1944.\n",
      "Df Model:                           9                                         \n",
      "Covariance Type:            nonrobust                                         \n",
      "===========================================================================================================\n",
      "                                              coef    std err          t      P>|t|      [0.025      0.975]\n",
      "-----------------------------------------------------------------------------------------------------------\n",
      "Intercept                                 5.18e+04   1321.559     39.197      0.000    4.92e+04    5.44e+04\n",
      "C(department)[T.english]                 9055.8441   1884.747      4.805      0.000    5311.466    1.28e+04\n",
      "C(department)[T.informatics]             1.861e+04   1982.352      9.386      0.000    1.47e+04    2.25e+04\n",
      "C(department)[T.sociology]              -1.088e+04   2483.215     -4.380      0.000   -1.58e+04   -5944.093\n",
      "C(department)[T.statistics]              2.865e+04   1953.622     14.666      0.000    2.48e+04    3.25e+04\n",
      "experience                                274.7322    252.471      1.088      0.279    -226.845     776.310\n",
      "experience:C(department)[T.english]        39.1883    363.691      0.108      0.914    -683.347     761.724\n",
      "experience:C(department)[T.informatics]  1251.3258    374.269      3.343      0.001     507.775    1994.876\n",
      "experience:C(department)[T.sociology]    1666.3859    422.191      3.947      0.000     827.630    2505.142\n",
      "experience:C(department)[T.statistics]    114.7960    346.958      0.331      0.742    -574.496     804.088\n",
      "==============================================================================\n",
      "Omnibus:                        2.239   Durbin-Watson:                   1.858\n",
      "Prob(Omnibus):                  0.326   Jarque-Bera (JB):                1.557\n",
      "Skew:                          -0.052   Prob(JB):                        0.459\n",
      "Kurtosis:                       2.397   Cond. No.                         61.7\n",
      "==============================================================================\n",
      "\n",
      "Warnings:\n",
      "[1] Standard Errors assume that the covariance matrix of the errors is correctly specified.\n"
     ]
    }
   ],
   "source": [
    "model3 = smf.ols(formula='salary ~ experience*C(department)', data = salaries)\n",
    "\n",
    "results_mod3 = model3.fit()\n",
    "\n",
    "print(results_mod3.summary())"
   ]
  },
  {
   "cell_type": "markdown",
   "metadata": {},
   "source": [
    "* What is the predicted salary with 7 years of experience in Biology?"
   ]
  },
  {
   "cell_type": "code",
   "execution_count": 34,
   "metadata": {},
   "outputs": [
    {
     "data": {
      "text/plain": [
       "53724.2629467453"
      ]
     },
     "execution_count": 34,
     "metadata": {},
     "output_type": "execute_result"
    }
   ],
   "source": [
    "results_mod3.params['experience']*7 + results_mod3.params['Intercept']"
   ]
  },
  {
   "cell_type": "markdown",
   "metadata": {},
   "source": [
    "* What is the predicted salary for someone with 7 years of experience in Sociology?"
   ]
  },
  {
   "cell_type": "code",
   "execution_count": 1,
   "metadata": {},
   "outputs": [
    {
     "ename": "SyntaxError",
     "evalue": "unexpected character after line continuation character (<ipython-input-1-be4053caf640>, line 1)",
     "output_type": "error",
     "traceback": [
      "\u001b[1;36m  File \u001b[1;32m\"<ipython-input-1-be4053caf640>\"\u001b[1;36m, line \u001b[1;32m1\u001b[0m\n\u001b[1;33m    (results_mod3.params['experience'] + results_mod3.params['experience:C(department)[T.sociology]'])*7 \\\u001b[0m\n\u001b[1;37m                                                                                                           ^\u001b[0m\n\u001b[1;31mSyntaxError\u001b[0m\u001b[1;31m:\u001b[0m unexpected character after line continuation character\n"
     ]
    }
   ],
   "source": [
    "(results_mod3.params['experience'] + results_mod3.params['experience:C(department)[T.sociology]'])*7 \\ \n",
    "+ results_mod3.params['Intercept'] + results_mod3.params['C(department)[T.sociology]']"
   ]
  },
  {
   "cell_type": "markdown",
   "metadata": {},
   "source": [
    "* Which department gets the highest raises (biggest slope)?"
   ]
  },
  {
   "cell_type": "code",
   "execution_count": 38,
   "metadata": {},
   "outputs": [
    {
     "data": {
      "text/plain": [
       "1941.1180412513272"
      ]
     },
     "execution_count": 38,
     "metadata": {},
     "output_type": "execute_result"
    }
   ],
   "source": [
    "(results_mod3.params['experience'] + results_mod3.params['experience:C(department)[T.sociology]'])"
   ]
  },
  {
   "cell_type": "markdown",
   "metadata": {},
   "source": [
    "* Which department has the highest starting salary (biggest intercept)?"
   ]
  },
  {
   "cell_type": "code",
   "execution_count": 41,
   "metadata": {},
   "outputs": [
    {
     "data": {
      "text/plain": [
       "28652.120139615126"
      ]
     },
     "execution_count": 41,
     "metadata": {},
     "output_type": "execute_result"
    }
   ],
   "source": [
    "results_mod3.params['C(department)[T.statistics]']"
   ]
  },
  {
   "cell_type": "markdown",
   "metadata": {},
   "source": [
    "### Comparing the models\n",
    "\n",
    "* Which model has the best fit? Justify."
   ]
  },
  {
   "cell_type": "code",
   "execution_count": 42,
   "metadata": {},
   "outputs": [
    {
     "name": "stdout",
     "output_type": "stream",
     "text": [
      "AIC Model 1 =  2182.409691980974 \n",
      "AIC Model 2 =  1937.6412740676572 \n",
      "AIC Model 3 =  1917.801552808499\n"
     ]
    }
   ],
   "source": [
    "print(\"AIC Model 1 = \", results_mod1.aic, \"\\nAIC Model 2 = \", results_mod2.aic, \"\\nAIC Model 3 = \", results_mod3.aic)\n",
    "\n",
    "\n"
   ]
  },
  {
   "cell_type": "code",
   "execution_count": null,
   "metadata": {},
   "outputs": [],
   "source": []
  }
 ],
 "metadata": {
  "kernelspec": {
   "display_name": "Python 3",
   "language": "python",
   "name": "python3"
  },
  "language_info": {
   "codemirror_mode": {
    "name": "ipython",
    "version": 3
   },
   "file_extension": ".py",
   "mimetype": "text/x-python",
   "name": "python",
   "nbconvert_exporter": "python",
   "pygments_lexer": "ipython3",
   "version": "3.7.3"
  },
  "toc": {
   "base_numbering": 1,
   "nav_menu": {},
   "number_sections": false,
   "sideBar": true,
   "skip_h1_title": false,
   "title_cell": "Table of Contents",
   "title_sidebar": "Contents",
   "toc_cell": false,
   "toc_position": {},
   "toc_section_display": true,
   "toc_window_display": false
  }
 },
 "nbformat": 4,
 "nbformat_minor": 2
}
