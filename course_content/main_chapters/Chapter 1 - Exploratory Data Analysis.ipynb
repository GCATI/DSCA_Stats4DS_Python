{
 "cells": [
  {
   "cell_type": "markdown",
   "metadata": {},
   "source": [
    "<div class=\"row\">\n",
    "    <div class=\"column\">\n",
    "        <img src=\"https://datasciencecampus.ons.gov.uk/wp-content/uploads/sites/10/2017/03/data-science-campus-logo-new.svg\"\n",
    "             alt=\"Data Science Campus Logo\"\n",
    "             align=\"right\" \n",
    "             width = \"340\"\n",
    "             style=\"margin: 0px 60px\"\n",
    "             />\n",
    "    </div>\n",
    "    <div class=\"column\">\n",
    "        <img src=\"https://cdn.ons.gov.uk/assets/images/ons-logo/v2/ons-logo.svg\"\n",
    "             alt=\"ONS Logo\"\n",
    "             align=\"left\" \n",
    "             width = \"420\"\n",
    "             style=\"margin: 0px 30px\"/>\n",
    "    </div>\n"
   ]
  },
  {
   "cell_type": "markdown",
   "metadata": {},
   "source": [
    "---\n",
    "\n",
    "<center><h1><font size=6> Statistics for Data Science with Python </font></h1></center>\n",
    "<center><h1><font size=7> Introduction </font></h1></center>\n",
    "\n",
    "*By Dr. Laurie Baker and Dr. Daniel J. Lewis*\n"
   ]
  },
  {
   "cell_type": "markdown",
   "metadata": {},
   "source": [
    "# Introduction\n",
    "\n",
    "Learners will at this point be familiar with how to bring their data into Python and how to clean it.\n",
    "\n",
    "    \n",
    "<img src=\"../../images/tidydata_5.jpg\"  width=\"800\" height=\"800\" alt=\"Analysis process: Wrangle, Visualise, Model.\">\n",
    "Image Credit: @AlisonHorst\n",
    "\n",
    "\n",
    "\n",
    "<img src=\"../../images/serra_rio.jpg\"  width=\"800\" height=\"800\" alt=\"The modelling process is like a road map. There are a series of stages.\">\n",
    "Image Credit: Serra Rio do Rastro. Source: Rosanetur\n",
    "\n",
    "\n",
    "This course covers the next steps of exploring and analysing the results and is intended to give a road map of the modelling process: \n",
    "\n",
    "\n",
    "2. **Explore the data.** Explore the variation and covariation in the data. Identify patterns through plotting which can be explored further using formal statistical testing. \n",
    "\n",
    "3. **Choose the model:** choose the mathematical description of the pattern you are trying to describe. \n",
    "\n",
    "4. **Fit parameters:** once you have defined your model, you can estimate the parameters (slope, intercept, ...). The parameters are effectively the answers to your questions from **1**. \n",
    "\n",
    "5. **Estimate confidence intervals/test hypotheses/select models:** measurements of uncertainty are necessary to contextualise your best-fit parameters. By quantifying the uncertainty in the fit of a model, you can estimate confidence limits for the parameters. You can then test your hypothesis statistially and practically, can we tell the difference statistically between the effect of bed nets to control malaria? Are these differences large enough to make bed nets an effective intervention strategy?\n",
    "\n",
    "Adapted from [*Ecological Models and Data with R*](https://ms.mcmaster.ca/~bolker/emdbook/book.pdf) by Ben Bolker. \n",
    "\n",
    "\n"
   ]
  },
  {
   "cell_type": "markdown",
   "metadata": {},
   "source": [
    "## Course Description: \n",
    "\n",
    "This course introduces the basics of carrying out a statistical analysis in Python. It covers exploratory data analysis and constructing and interpreting linear and generalized linear models. \n",
    "\n",
    "## **Aims, Objectives and Intended Learning Outcomes:** \n",
    "\n",
    "<br>\n",
    "\n",
    "### Chapter 1: Exploratory Data Analysis\n",
    "By the end of Chapter 1, learners should know:\n",
    "\n",
    "*   What is tidy data?\n",
    "    *   What is a variable, value, and observation?\n",
    "    *   Several python commands to explore the structure of the data\n",
    "    *   What is the difference between a continuous and categorical variable?\n",
    "    *   What is variation and covariation?\n",
    "*  Where Exploratory Data Analysis fits within data analysis?\n",
    "    *   How to use plots to explore variation in \n",
    "        *\tA continuous variable\n",
    "        *\tA categorical variable\n",
    "    *   How to use plots to explore covariation between\n",
    "        *\tTwo categorical variables\n",
    "        *\tTwo continuous variables\n",
    "        *\tA categorical and continuous variable. \n",
    "\n",
    "### Chapter 2: Model Basics\n",
    "\n",
    "By the end of Chapter 2, learners should know:\n",
    "\n",
    "*   Model Basics\n",
    "    *\t What is a model family and fitted model?\n",
    "    *\t What is the difference between a response and an explanatory variable?\n",
    "    \n",
    "*   Model Construction\n",
    "    *  How to construct a linear model in python?\n",
    "    *  What are the slope and intercept in a linear model?\n",
    "    *  Picking out key information from the model table\n",
    "    *  How to extract specific parameters from the model object.\n",
    "\n",
    "*  Assessing Model Fit\n",
    "    *\t How to inspect model residuals to assess model fit?\n",
    "    *\t How to pick out key information from the table from a fitted model. \n",
    "    *  How to use Adjusted R-squared and AIC to compare models. \n",
    "\n",
    "### Chapter 3: Generalized Linear Models\n",
    "\n",
    "By the end of Chapter 3, learners should know\n",
    "\n",
    "* What is probability? \n",
    "\n",
    "* What is a random variable?\n",
    "\n",
    "* What a probability distribution is and how it differs for continuous vs. discrete random variables?\n",
    "* Be familiar with several common probability distributions used to model variation in the response variable\n",
    "  * Binomial\n",
    "  * Normal\n",
    "  * Poisson\n",
    "  * Negative Binomial\n",
    "\n",
    "* How to implement a generalized linear model in python.\n",
    "\n",
    "\n",
    "**Acknowledgements:** Many thanks to Dr. Paraskevi Pericleous for key initial work on this module. Many thanks to Dr. Daniel J. Lewis for preparing the GLM material. \n"
   ]
  },
  {
   "cell_type": "markdown",
   "metadata": {},
   "source": [
    "### Packages for this adventure"
   ]
  },
  {
   "cell_type": "code",
   "execution_count": null,
   "metadata": {},
   "outputs": [],
   "source": [
    "import numpy as np # linear algebra\n",
    "import pandas as pd # tabular data processing\n",
    "import matplotlib.pyplot as plt # data plotting\n",
    "import seaborn as sns # data visualisation and plotting\n",
    "\n",
    "# Set a style\n",
    "plt.style.use('ggplot')\n",
    "\n",
    "# set the custom size for my graphs\n",
    "sns.set(rc={'figure.figsize':(8.7,6.27)})\n",
    "\n",
    "# supress warnings due to different versions of packages\n",
    "import warnings\n",
    "warnings.simplefilter(action='ignore', category=FutureWarning)\n",
    "\n",
    "# set plots to show inline\n",
    "%matplotlib inline"
   ]
  },
  {
   "cell_type": "markdown",
   "metadata": {},
   "source": [
    "---\n",
    "# Chapter 1: Exploratory Data Analysis\n",
    "\n",
    "\n",
    "## Introduction\n",
    "\n",
    "Exploratory data analysis is a fluid process and there is no single approach. It can be thought of a process of hypothesis generation, data exploration, and formal statistical testing. It comes after the stage of importing and tidying your data.\n",
    "\n",
    "\n",
    "In this section we will walk through organising your data, getting to know your data structure, and understanding variation and covariation within and between variables.  \n",
    "\n",
    "\n",
    "For these exercises we will use a simulated dataset of departmental salaries, which consists of the salaries of professors in 5 departments: english, informatics, statistics, biology, and sociology.\n",
    "\n",
    "\n",
    "\n",
    "### Tidying your data\n",
    "\n",
    "To conduct regression analyses in python it is important to have your data in a format that is easy to work with. A good approach is to organise your data in a \"tidy\" format. \n",
    "\n",
    "Tidy data is a set of values, where each `value` is placed in its own “cell”, each `variable` in its own column, and each `observation` in its own row. Although this course is on Statistics in Python, the book [*R for Data Science*](https://r4ds.had.co.nz/) by Garrett Grolemund and Hadley Wickham is a great resource when thinking about tidying data. Here, we use some of the definitions they set out in the book to describe tidy data. \n",
    "\n",
    "**Some definitions for tidy data**:\n",
    "\n",
    " * A `variable` is a quantity, quality, or property that you can measure.\n",
    "\n",
    " * A `value` is the state of a variable when you measure it. The value of a variable may change from measurement to measurement.\n",
    "\n",
    " * An `observation` is a set of measurements made under similar conditions (you usually make all of the measurements in an observation at the same time and on the same object). An observation will contain several values, each associated with a different variable.\n",
    "\n",
    "  * In python, the *pandas* package makes it easy to format your data in a tabular format. \n",
    "  \n",
    "\n",
    "**Reading in the data**"
   ]
  },
  {
   "cell_type": "code",
   "execution_count": null,
   "metadata": {},
   "outputs": [],
   "source": [
    "# read in the salary data\n",
    "salaries = pd.read_csv(\"../../data/faculty-data.csv\") "
   ]
  },
  {
   "cell_type": "code",
   "execution_count": null,
   "metadata": {},
   "outputs": [],
   "source": [
    "# looking at the head of the dataframe\n",
    "salaries.head()"
   ]
  },
  {
   "cell_type": "markdown",
   "metadata": {},
   "source": [
    "**Exercise**\n",
    "\n",
    "Our salary data consists of the salaries of individual professors from 5 departments within the University: english, informatics, statistics, biology, and sociology. The data contains the following variables\n",
    "\n",
    "* `ids` = individual id\n",
    "* `department` = university department\n",
    "* `bases` = the starting salary\n",
    "* `experience` = years of experience\n",
    "* `raises` = raise per year\n",
    "* `salary` = current salary\n",
    "\n",
    "We're interested in exploring the relationship between years of experience and salary, but first we need to get to know our data a bit better. \n",
    "\n",
    "1. Looking at the definitions for `value`, `observation`, and `variable`, give an example of each term from the salary data."
   ]
  },
  {
   "cell_type": "markdown",
   "metadata": {},
   "source": [
    "\n",
    "\n",
    "## Getting to know your data\n",
    "\n",
    "To get started, let's explore the following questions for our dataset. \n",
    "\n",
    " 1. What is the structure of the data?\n",
    "\n",
    " 2. What type of variation occurs within my variables?\n",
    "\n",
    " 3. What type of covariation occurs between my variables? \n",
    " \n",
    "\n",
    "### Data Structure and Data Summaries\n",
    "\n",
    "One of the things we will wish to know about our variables are whether they are continuous or categorical. \n",
    "\n",
    "<img src=\"../../images/continuous_discrete.png\"  width=\"700\" height=\"700\" alt=\"Continuous values include weight and height. Categorical variables are discrete things, like the number of octopus legs.\">\n",
    "Image Credit:  @AllisonHorst.\n",
    "\n",
    "\n",
    "   * `Continuous variable`: a variable that can take on an unlimited number of values between the lowest and highest points of measurements.\n",
    "        * e.g. speed, distance, height\n",
    "        \n",
    "        \n",
    "  * `Categorical variable` can take **one** of a limited subset of values. For example, if you have a dataset about a household then you will typically find variables like employment sector, marriage status, and country.\n",
    "      * In python, categorical variables are usually stored as character strings or integers (e.g. 'Industry' and 'Academia' for types of employment sector). \n",
    "      * Categorical variables are **nominal** if they have no order (e.g. 'Ghana' and 'Uruguay')\n",
    "      * Categorical variables are **ordinal** if there is an order associated with them (e.g. 'low', 'medium', and 'high' referring to economic status).\n",
    "\n",
    "As we start to think about our data and the types of variables we are working with, we recommend reading [Chapter 4: \"What Gets Counted Counts\"](https://data-feminism.mitpress.mit.edu/pub/h1w0nbqp/release/2) of Data Feminism by Catherine D'Ignazio and Lauren Klein. The book encourages us to rethink binaries and examine classification systems in data science.\n"
   ]
  },
  {
   "cell_type": "markdown",
   "metadata": {},
   "source": [
    "**Exercises** \n",
    "\n",
    "Run the following lines of code to answer the questions below\n",
    "\n",
    "1. What are the dimensions of the dataframe?\n"
   ]
  },
  {
   "cell_type": "code",
   "execution_count": null,
   "metadata": {},
   "outputs": [],
   "source": [
    "# the shape attribute returns the dimensions of the dataframe\n",
    "salaries.shape"
   ]
  },
  {
   "cell_type": "markdown",
   "metadata": {},
   "source": [
    "2. What are the first and last values of salary?\n"
   ]
  },
  {
   "cell_type": "code",
   "execution_count": null,
   "metadata": {},
   "outputs": [],
   "source": [
    "# the head method shows us the first 5 rows\n",
    "\n",
    "salaries.head()"
   ]
  },
  {
   "cell_type": "code",
   "execution_count": null,
   "metadata": {},
   "outputs": [],
   "source": [
    "# the tail method shows us the last 5 rows\n",
    "\n",
    "salaries.tail()"
   ]
  },
  {
   "cell_type": "markdown",
   "metadata": {},
   "source": [
    "3. Which variables are categorical or continuous variables? What are these data types called in Python?"
   ]
  },
  {
   "cell_type": "code",
   "execution_count": null,
   "metadata": {
    "scrolled": true
   },
   "outputs": [],
   "source": [
    "# the info method will tell us about our data frame, including how many observations per column and the type of data.\n",
    "\n",
    "salaries.info()"
   ]
  },
  {
   "cell_type": "markdown",
   "metadata": {},
   "source": [
    "We often see type: `object` in `pandas`, [this section of the package user guide](https://pandas.pydata.org/pandas-docs/stable/user_guide/text.html) explains why this is."
   ]
  },
  {
   "cell_type": "markdown",
   "metadata": {},
   "source": [
    " 4. Using the data summary, what is the minimum and maximum salary?"
   ]
  },
  {
   "cell_type": "code",
   "execution_count": null,
   "metadata": {
    "scrolled": true
   },
   "outputs": [],
   "source": [
    "# the describe method gives us a summary of the numerical data and the spread of values\n",
    "\n",
    "salaries.describe()"
   ]
  },
  {
   "cell_type": "markdown",
   "metadata": {},
   "source": [
    "5. What are the names of the columns?"
   ]
  },
  {
   "cell_type": "code",
   "execution_count": null,
   "metadata": {},
   "outputs": [],
   "source": [
    "# the columns attribute returns the column names\n",
    "\n",
    "salaries.columns"
   ]
  },
  {
   "cell_type": "markdown",
   "metadata": {},
   "source": [
    "6. Do we have any missing data? How many missing values do we have per variable?"
   ]
  },
  {
   "cell_type": "code",
   "execution_count": null,
   "metadata": {},
   "outputs": [],
   "source": [
    "# the isna() method returns missing values and the sum() method adds them up.\n",
    "\n",
    "salaries.isna().sum()\n"
   ]
  },
  {
   "cell_type": "markdown",
   "metadata": {},
   "source": [
    "We can only find missing values when we have told the dataframe what to count as missing data. Sometimes our data may contain unrecognised or other custom values that signify missing values. If this happens we need to overwrite these values as missing values."
   ]
  },
  {
   "cell_type": "markdown",
   "metadata": {},
   "source": [
    "7. What are the unique departments in our dataset?"
   ]
  },
  {
   "cell_type": "code",
   "execution_count": null,
   "metadata": {},
   "outputs": [],
   "source": [
    "# the unique() method returns the distinct values in a column.\n",
    "\n",
    "salaries['department'].unique()"
   ]
  },
  {
   "cell_type": "markdown",
   "metadata": {},
   "source": [
    "8. Do we have any duplicates in our data?"
   ]
  },
  {
   "cell_type": "code",
   "execution_count": null,
   "metadata": {},
   "outputs": [],
   "source": [
    "# the duplicated() method returns duplicates, the sum() method adds them up for us.\n",
    "\n",
    "salaries.duplicated().sum()"
   ]
  },
  {
   "cell_type": "markdown",
   "metadata": {},
   "source": [
    "Note that if we wanted to filter out duplicates we can use `.drop_duplicates()`. Although, in this dataset we don't have duplicates."
   ]
  },
  {
   "cell_type": "code",
   "execution_count": null,
   "metadata": {},
   "outputs": [],
   "source": [
    "# you can filter out the duplicates using the drop_duplicates method.\n",
    "\n",
    "salaries.drop_duplicates()"
   ]
  },
  {
   "cell_type": "markdown",
   "metadata": {},
   "source": [
    "### Variation\n",
    "\n",
    "Now we know more about the structure of our data we can explore the variation and covariation in the variables. Knowing the variation and covariation between variables can help us to understand the spread of the data and potential relationships in the data that may give insight into modelling. \n",
    "\n",
    "\n",
    "<div class=\"alert alert-block alert-success\">\n",
    "<b><font size=\"4\"> Terminology</font> </b> \n",
    "<p> \n",
    "\n",
    "  * `variation`: is the tendency of values of a variable to change from measurement to measurement. Variation can come in several forms: \n",
    "    - `measurement error`: you may measure the same thing twice and get slightly different values.\n",
    "    - `natural variation`: is the term I use to refer to variation that is inherent in a population or sample (e.g. as humans we all have different heights, the way these values vary reflect the variation in the sample or population).\n",
    "\n",
    "  * `covariation`: tendency of values of a variable to change with the values of another variable. \n",
    "\n",
    "</p>\n",
    "</div>\n",
    "\n",
    "\n",
    "Visualisation is a great initial tool to explore these relationships further."
   ]
  },
  {
   "cell_type": "markdown",
   "metadata": {},
   "source": [
    "### Visualising Distributions\n",
    "\n",
    "How you visualise your variables depends on if the variable is `categorical` or `continuous`.\n",
    "\n",
    "\n",
    "**A categorical variable** \n",
    "\n",
    "   * `Categorical or discrete variable`: a variable that can take on one of a limited, usually fixed number of possible values, assigning each value to a particular group or nominal category. \n",
    "        * e.g. employment sector, economic status, density: (high, medium, low)\n",
    "        \n",
    "To examine the distribution of a categorical variable, we can use a bar plot:\n",
    "\n",
    "  * Bar plots are a useful tool for getting to know how many observations are within each group of a category. "
   ]
  },
  {
   "cell_type": "code",
   "execution_count": null,
   "metadata": {},
   "outputs": [],
   "source": [
    "# We can use the countplot method to create a bar chart.\n",
    "# We need to specify the variable to plot, department, and the data: salaries.\n",
    "\n",
    "department_counts = sns.countplot(x=\"department\",\n",
    "                                  data=salaries)\n",
    "department_counts;"
   ]
  },
  {
   "cell_type": "markdown",
   "metadata": {},
   "source": [
    "In this case, the bar chart shows that there are the same number of individuals who we have salary data for per department in the data set.\n",
    "**A continuous variable**\n",
    "  * A `continuous variable` can take any of an infinite set of ordered values (e.g. numbers and date times). We can inspect the spread of the data using a density plot or box plot. "
   ]
  },
  {
   "cell_type": "code",
   "execution_count": null,
   "metadata": {},
   "outputs": [],
   "source": [
    "# We can use the distplot method to make a plot of the distribution.\n",
    "# We again specify the variable to plot, salary.\n",
    "# We can customise the plot using several parameters\n",
    "# to include a histogram or not, e.g. hist=False\n",
    "# to plot a Gaussian kernel density e.g. kde=True\n",
    "# to customise the appearance of the plot, kde_kws,\n",
    "# including keyword arguments for underlying plotting functions like shade.\n",
    "\n",
    "salary_all_distplot = sns.distplot(salaries['salary'],\n",
    "                                   hist=False,\n",
    "                                   kde=True,\n",
    "                                   kde_kws={'shade': True,\n",
    "                                            'linewidth': 3})\n",
    "\n",
    "# We can then set the xlabel and ylabel for the plot using the method set()\n",
    "\n",
    "salary_all_distplot.set(xlabel='Salary',\n",
    "                        ylabel='Density');"
   ]
  },
  {
   "cell_type": "markdown",
   "metadata": {},
   "source": [
    "If we look at the distribution of salary, something interesting seems to be happening. It appears that the distribution is *bimodal* meaning that there are two modes, in this case two maxima (around 55,000 USD and 80,000 USD), in the data.\n",
    "\n",
    "Let's explore the data in more detail by plotting the salary by department"
   ]
  },
  {
   "cell_type": "code",
   "execution_count": null,
   "metadata": {},
   "outputs": [],
   "source": [
    "# We can explore the distribution of salaries broken down by department\n",
    "# Each of the distributions are slightly different shaped\n",
    "# There are clear groupings between different departments\n",
    "sns.displot(data=salaries, x='salary', hue='department', kind='kde', fill=True);"
   ]
  },
  {
   "cell_type": "markdown",
   "metadata": {},
   "source": [
    "### Covariation\n",
    "\n",
    "\n",
    "**A continuous and categorical variable**\n",
    "\n",
    " * **Box plot of salary by department**\n"
   ]
  },
  {
   "cell_type": "code",
   "execution_count": null,
   "metadata": {},
   "outputs": [],
   "source": [
    "# Using the boxplot function to create a boxplot. \n",
    "# To create this plot we need to specify the y variable (continuous)\n",
    "# and the x variable (categorical)\n",
    "\n",
    "salary_boxplot = sns.boxplot(data=salaries, \n",
    "                             y='salary', \n",
    "                             x='department');"
   ]
  },
  {
   "cell_type": "markdown",
   "metadata": {},
   "source": [
    "* A box plot gives us a visual representation of the distribution of numeric data using quartiles. It can be a good way to see how the data is spread and to identify potential outliers. \n",
    "    * The box plot shows the median (second quartile) in the middle of the plot.\n",
    "    * The first and third quartile represent the interquartile range (25\\% to 75\\%). \n",
    "    * The minimum and maximum are defined as the (Q1 - 1.5 x IQ) and (Q3 + 1.5 x IQ).\n",
    "\n",
    "* **Violin plots of salary for each department**\n"
   ]
  },
  {
   "cell_type": "code",
   "execution_count": null,
   "metadata": {},
   "outputs": [],
   "source": [
    "# Using the violinplot function to create a violin plot.\n",
    "# To create this plot we need to specify the y variable (continuous)\n",
    "# and the x variable (categorical)\n",
    "\n",
    "salary_violin = sns.violinplot(data=salaries,\n",
    "                               y=\"salary\",\n",
    "                               x='department');"
   ]
  },
  {
   "cell_type": "markdown",
   "metadata": {},
   "source": [
    "Violin plots are similar to box plots, but they also show the probability density of the data at different values, usually smoothed by a kernel density estimator. \n",
    "\n",
    "**Two continuous variables**\n",
    "\n",
    "Plotting two continuous variables, we can see how they change in relation to eachother. In these plots we are looking to see whether there is a \n",
    "\n",
    "* **positive relationship** as one variable increases the other variable increases\n",
    "\n",
    "* **negative relationship** as one variable increases the other decreases\n",
    "\n",
    "* **no relationship** no discernable pattern of change in one variable with the other.\n",
    "\n",
    "* **non-linear relationship** we may also be able to pick out other patterns, e.g. *polynomials*. \n",
    "\n",
    "\n",
    "Spot the third variable? Is it categorical or continuous?\n"
   ]
  },
  {
   "cell_type": "code",
   "execution_count": null,
   "metadata": {
    "scrolled": true
   },
   "outputs": [],
   "source": [
    "# Using the scatterplot function to create a scatterplot. \n",
    "# To create this plot we need to specify the x and y variable (both continuous).\n",
    "# Which variable we put on which axis depends on the relationship we are exploring.\n",
    "# Typically this is how does y change with x. The relationship is often causal  \n",
    "# In this case, how does the salary vary with experience? \n",
    "# It is reasonable to think that someone's salary increases with experience\n",
    "# rather than someone's experience increasing with salary.\n",
    "# We can also specify the colour using hue.\n",
    "\n",
    "salary_experience = sns.scatterplot(data=salaries, \n",
    "                                    x='experience', \n",
    "                                    y='salary', \n",
    "                                    hue='department');"
   ]
  },
  {
   "cell_type": "markdown",
   "metadata": {},
   "source": [
    "\n",
    "<div class=\"alert alert-block alert-info\">\n",
    "<b><font size=\"4\">Exercise:</font></b> \n",
    "\n",
    "<p> \n",
    "\n",
    "1. Make a box plot or a violin plot of experience by department.\n",
    "\n",
    "</p> </div>\n"
   ]
  },
  {
   "cell_type": "code",
   "execution_count": null,
   "metadata": {},
   "outputs": [],
   "source": [
    "# Boxplot\n",
    "\n",
    "sns.boxplot(data=salaries,\n",
    "            x=\"\",\n",
    "            y=\"\")"
   ]
  },
  {
   "cell_type": "code",
   "execution_count": null,
   "metadata": {},
   "outputs": [],
   "source": [
    "# Run this cell to display the answer code, run it again to run the code \n",
    "%load \"./Solutions/ex1.1.py\"\n"
   ]
  },
  {
   "cell_type": "markdown",
   "metadata": {},
   "source": [
    "\n",
    "<div class=\"alert alert-block alert-info\">\n",
    "\n",
    "<p> \n",
    "2. Make a scatterplot to visualise the relationship between base salary `bases` and raises `raises` coloured by department. What patterns can you pick out from the data?\n",
    "\n",
    "</p> </div>\n"
   ]
  },
  {
   "cell_type": "code",
   "execution_count": null,
   "metadata": {},
   "outputs": [],
   "source": [
    "# Scatterplot\n",
    "\n",
    "sns.scatterplot(data=salaries,\n",
    "                x=\"\",\n",
    "                y=\"\",\n",
    "                hue=\"\")"
   ]
  },
  {
   "cell_type": "code",
   "execution_count": null,
   "metadata": {},
   "outputs": [],
   "source": [
    "# Run this cell to display the answer code, run it again to run the code \n",
    "%load \"./Solutions/ex1.2.py\"\n"
   ]
  },
  {
   "cell_type": "markdown",
   "metadata": {},
   "source": [
    "<div class=\"alert alert-block alert-info\">\n",
    "\n",
    "<p> \n",
    "3. Pairplots can be a quick and useful way to summarise your dataset quickly and to inspect the relationships simultaneously.Trying running the following code to make a pairplot. What does this code do? \n",
    "    \n",
    "4. Using SHIFT + TAB to look at the documentation, what other options can you choose for the \n",
    "diagonal plot (diag_kind)?\n",
    "\n",
    "</p> </div>"
   ]
  },
  {
   "cell_type": "code",
   "execution_count": null,
   "metadata": {},
   "outputs": [],
   "source": [
    "# Using the method pairplot we can explore all variables in our data set.\n",
    "# We need to specify the data, and we can add a colour with the hue parameter.\n",
    "# We can choose what plot is on the diagonal using the parameter diag_kind \n",
    "# (e.g. kde for Gaussian kernel density) like the one we made using distplot. \n",
    "\n",
    "\n",
    "salaries_pairplot = sns.pairplot(data=salaries, \n",
    "                                 hue=\"department\", \n",
    "                                 diag_kind=\"kde\")\n",
    "salaries_pairplot;"
   ]
  },
  {
   "cell_type": "markdown",
   "metadata": {},
   "source": [
    "<div class=\"alert alert-block alert-success\">\n",
    "<b><font size=\"4\"> Next Chapter: Model Basics</font> </b> \n",
    "<p> \n",
    "Exploratory Data Analysis is a useful tool to identify and pick out patterns to explore, but we need to confirm any results with statistical analyses.\n",
    "</p>\n",
    "</div>"
   ]
  },
  {
   "cell_type": "code",
   "execution_count": null,
   "metadata": {},
   "outputs": [],
   "source": []
  }
 ],
 "metadata": {
  "kernelspec": {
   "display_name": "Python 3",
   "language": "python",
   "name": "python3"
  },
  "language_info": {
   "codemirror_mode": {
    "name": "ipython",
    "version": 3
   },
   "file_extension": ".py",
   "mimetype": "text/x-python",
   "name": "python",
   "nbconvert_exporter": "python",
   "pygments_lexer": "ipython3",
   "version": "3.7.3"
  },
  "toc": {
   "base_numbering": 1,
   "nav_menu": {},
   "number_sections": false,
   "sideBar": true,
   "skip_h1_title": false,
   "title_cell": "Table of Contents",
   "title_sidebar": "Contents",
   "toc_cell": false,
   "toc_position": {},
   "toc_section_display": true,
   "toc_window_display": false
  }
 },
 "nbformat": 4,
 "nbformat_minor": 2
}
